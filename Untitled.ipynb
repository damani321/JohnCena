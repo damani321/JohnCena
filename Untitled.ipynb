{
  "metadata": {
    "language_info": {
      "codemirror_mode": {
        "name": "python",
        "version": 3
      },
      "file_extension": ".py",
      "mimetype": "text/x-python",
      "name": "python",
      "nbconvert_exporter": "python",
      "pygments_lexer": "ipython3",
      "version": "3.8"
    },
    "kernelspec": {
      "name": "python",
      "display_name": "Python (Pyodide)",
      "language": "python"
    }
  },
  "nbformat_minor": 4,
  "nbformat": 4,
  "cells": [
    {
      "cell_type": "markdown",
      "source": "# Title: Hello World",
      "metadata": {}
    },
    {
      "cell_type": "markdown",
      "source": "## Introduction",
      "metadata": {}
    },
    {
      "cell_type": "markdown",
      "source": "### Languages\n-Julia  \n-Python  \n-R",
      "metadata": {}
    },
    {
      "cell_type": "markdown",
      "source": "### Libraries\n-Numpy\n\n-Pandas\n\n-Matplotlib",
      "metadata": {}
    },
    {
      "cell_type": "markdown",
      "source": "### Tools\n-Python  \n-R  \n-SQL",
      "metadata": {}
    },
    {
      "cell_type": "markdown",
      "source": "### Arithematic Expresison Examples\n-Addition  \na=2  \nb=3\n\na+b\n\n5",
      "metadata": {}
    },
    {
      "cell_type": "markdown",
      "source": "### Multply and add\na = 5    \nb = 10  \nmultiply_result = a * b  \nadd_result = a + b  \nmultiply_result, add_result\n\n50  \n15",
      "metadata": {}
    },
    {
      "cell_type": "markdown",
      "source": "### Min to Hrs\nmin = 60  \nhrs = min/60  \n\nhrs\n\n1",
      "metadata": {}
    },
    {
      "cell_type": "markdown",
      "source": "### Objectives\n-This is a test  \n-Required to pass this course  \n-Must pass  \n-Hence, working hard",
      "metadata": {}
    },
    {
      "cell_type": "markdown",
      "source": "### Author Name\nJohn Cena,  \nYou can't see me!",
      "metadata": {}
    }
  ]
}